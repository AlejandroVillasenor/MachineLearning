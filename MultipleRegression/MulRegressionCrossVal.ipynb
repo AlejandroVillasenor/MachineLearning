{
 "cells": [
  {
   "cell_type": "markdown",
   "metadata": {},
   "source": [
    "**Regresión lineal múltiple.**\n",
    "\n",
    "*Uso de la validación cruzada (método del gradiente).*\n",
    "\n",
    "Hello, I'm Go1234550"
   ]
  },
  {
   "cell_type": "markdown",
   "metadata": {},
   "source": [
    "Realizaremos una regresión lineal múltiple para predecir el precio de compra de un vehículo haciendo uso de las siguientes variables:\n",
    "\n",
    "* annual Salary: Indica el salario anual que percibe una persona.\n",
    "\n",
    "* age: Corresponde a la edad de la persona.\n",
    "\n",
    "Se consideran estas variables ya que son las que tienen mayor correlación con nuestra variable a predecir."
   ]
  },
  {
   "cell_type": "markdown",
   "metadata": {},
   "source": [
    "**Importamos las librerías.**\n",
    "\n",
    "Importamos las librerías necesarias y, además, leemos nuestro *dataset*."
   ]
  },
  {
   "cell_type": "code",
   "execution_count": 19,
   "metadata": {},
   "outputs": [
    {
     "data": {
      "text/html": [
       "<div>\n",
       "<style scoped>\n",
       "    .dataframe tbody tr th:only-of-type {\n",
       "        vertical-align: middle;\n",
       "    }\n",
       "\n",
       "    .dataframe tbody tr th {\n",
       "        vertical-align: top;\n",
       "    }\n",
       "\n",
       "    .dataframe thead th {\n",
       "        text-align: right;\n",
       "    }\n",
       "</style>\n",
       "<table border=\"1\" class=\"dataframe\">\n",
       "  <thead>\n",
       "    <tr style=\"text-align: right;\">\n",
       "      <th></th>\n",
       "      <th>customer name</th>\n",
       "      <th>customer e-mail</th>\n",
       "      <th>country</th>\n",
       "      <th>gender</th>\n",
       "      <th>age</th>\n",
       "      <th>annual Salary</th>\n",
       "      <th>credit card debt</th>\n",
       "      <th>net worth</th>\n",
       "      <th>car purchase amount</th>\n",
       "    </tr>\n",
       "  </thead>\n",
       "  <tbody>\n",
       "    <tr>\n",
       "      <th>0</th>\n",
       "      <td>Martina Avila</td>\n",
       "      <td>cubilia.Curae.Phasellus@quisaccumsanconvallis.edu</td>\n",
       "      <td>Bulgaria</td>\n",
       "      <td>0</td>\n",
       "      <td>41.851720</td>\n",
       "      <td>62812.09301</td>\n",
       "      <td>11609.380910</td>\n",
       "      <td>238961.2505</td>\n",
       "      <td>35321.45877</td>\n",
       "    </tr>\n",
       "    <tr>\n",
       "      <th>1</th>\n",
       "      <td>Harlan Barnes</td>\n",
       "      <td>eu.dolor@diam.co.uk</td>\n",
       "      <td>Belize</td>\n",
       "      <td>0</td>\n",
       "      <td>40.870623</td>\n",
       "      <td>66646.89292</td>\n",
       "      <td>9572.957136</td>\n",
       "      <td>530973.9078</td>\n",
       "      <td>45115.52566</td>\n",
       "    </tr>\n",
       "    <tr>\n",
       "      <th>2</th>\n",
       "      <td>Naomi Rodriquez</td>\n",
       "      <td>vulputate.mauris.sagittis@ametconsectetueradip...</td>\n",
       "      <td>Algeria</td>\n",
       "      <td>1</td>\n",
       "      <td>43.152897</td>\n",
       "      <td>53798.55112</td>\n",
       "      <td>11160.355060</td>\n",
       "      <td>638467.1773</td>\n",
       "      <td>42925.70921</td>\n",
       "    </tr>\n",
       "    <tr>\n",
       "      <th>3</th>\n",
       "      <td>Jade Cunningham</td>\n",
       "      <td>malesuada@dignissim.com</td>\n",
       "      <td>Cook Islands</td>\n",
       "      <td>1</td>\n",
       "      <td>58.271369</td>\n",
       "      <td>79370.03798</td>\n",
       "      <td>14426.164850</td>\n",
       "      <td>548599.0524</td>\n",
       "      <td>67422.36313</td>\n",
       "    </tr>\n",
       "    <tr>\n",
       "      <th>4</th>\n",
       "      <td>Cedric Leach</td>\n",
       "      <td>felis.ullamcorper.viverra@egetmollislectus.net</td>\n",
       "      <td>Brazil</td>\n",
       "      <td>1</td>\n",
       "      <td>57.313749</td>\n",
       "      <td>59729.15130</td>\n",
       "      <td>5358.712177</td>\n",
       "      <td>560304.0671</td>\n",
       "      <td>55915.46248</td>\n",
       "    </tr>\n",
       "    <tr>\n",
       "      <th>...</th>\n",
       "      <td>...</td>\n",
       "      <td>...</td>\n",
       "      <td>...</td>\n",
       "      <td>...</td>\n",
       "      <td>...</td>\n",
       "      <td>...</td>\n",
       "      <td>...</td>\n",
       "      <td>...</td>\n",
       "      <td>...</td>\n",
       "    </tr>\n",
       "    <tr>\n",
       "      <th>495</th>\n",
       "      <td>Walter</td>\n",
       "      <td>ligula@Cumsociis.ca</td>\n",
       "      <td>Nepal</td>\n",
       "      <td>0</td>\n",
       "      <td>41.462515</td>\n",
       "      <td>71942.40291</td>\n",
       "      <td>6995.902524</td>\n",
       "      <td>541670.1016</td>\n",
       "      <td>48901.44342</td>\n",
       "    </tr>\n",
       "    <tr>\n",
       "      <th>496</th>\n",
       "      <td>Vanna</td>\n",
       "      <td>Cum.sociis.natoque@Sedmolestie.edu</td>\n",
       "      <td>Zimbabwe</td>\n",
       "      <td>1</td>\n",
       "      <td>37.642000</td>\n",
       "      <td>56039.49793</td>\n",
       "      <td>12301.456790</td>\n",
       "      <td>360419.0988</td>\n",
       "      <td>31491.41457</td>\n",
       "    </tr>\n",
       "    <tr>\n",
       "      <th>497</th>\n",
       "      <td>Pearl</td>\n",
       "      <td>penatibus.et@massanonante.com</td>\n",
       "      <td>Philippines</td>\n",
       "      <td>1</td>\n",
       "      <td>53.943497</td>\n",
       "      <td>68888.77805</td>\n",
       "      <td>10611.606860</td>\n",
       "      <td>764531.3203</td>\n",
       "      <td>64147.28888</td>\n",
       "    </tr>\n",
       "    <tr>\n",
       "      <th>498</th>\n",
       "      <td>Nell</td>\n",
       "      <td>Quisque.varius@arcuVivamussit.net</td>\n",
       "      <td>Botswana</td>\n",
       "      <td>1</td>\n",
       "      <td>59.160509</td>\n",
       "      <td>49811.99062</td>\n",
       "      <td>14013.034510</td>\n",
       "      <td>337826.6382</td>\n",
       "      <td>45442.15353</td>\n",
       "    </tr>\n",
       "    <tr>\n",
       "      <th>499</th>\n",
       "      <td>Marla</td>\n",
       "      <td>Camaron.marla@hotmail.com</td>\n",
       "      <td>marlal</td>\n",
       "      <td>1</td>\n",
       "      <td>46.731152</td>\n",
       "      <td>61370.67766</td>\n",
       "      <td>9391.341628</td>\n",
       "      <td>462946.4924</td>\n",
       "      <td>45107.22566</td>\n",
       "    </tr>\n",
       "  </tbody>\n",
       "</table>\n",
       "<p>500 rows × 9 columns</p>\n",
       "</div>"
      ],
      "text/plain": [
       "       customer name                                    customer e-mail  \\\n",
       "0      Martina Avila  cubilia.Curae.Phasellus@quisaccumsanconvallis.edu   \n",
       "1      Harlan Barnes                                eu.dolor@diam.co.uk   \n",
       "2    Naomi Rodriquez  vulputate.mauris.sagittis@ametconsectetueradip...   \n",
       "3    Jade Cunningham                            malesuada@dignissim.com   \n",
       "4       Cedric Leach     felis.ullamcorper.viverra@egetmollislectus.net   \n",
       "..               ...                                                ...   \n",
       "495           Walter                                ligula@Cumsociis.ca   \n",
       "496            Vanna                 Cum.sociis.natoque@Sedmolestie.edu   \n",
       "497            Pearl                      penatibus.et@massanonante.com   \n",
       "498             Nell                  Quisque.varius@arcuVivamussit.net   \n",
       "499            Marla                          Camaron.marla@hotmail.com   \n",
       "\n",
       "          country  gender        age  annual Salary  credit card debt  \\\n",
       "0        Bulgaria       0  41.851720    62812.09301      11609.380910   \n",
       "1          Belize       0  40.870623    66646.89292       9572.957136   \n",
       "2         Algeria       1  43.152897    53798.55112      11160.355060   \n",
       "3    Cook Islands       1  58.271369    79370.03798      14426.164850   \n",
       "4          Brazil       1  57.313749    59729.15130       5358.712177   \n",
       "..            ...     ...        ...            ...               ...   \n",
       "495         Nepal       0  41.462515    71942.40291       6995.902524   \n",
       "496      Zimbabwe       1  37.642000    56039.49793      12301.456790   \n",
       "497   Philippines       1  53.943497    68888.77805      10611.606860   \n",
       "498      Botswana       1  59.160509    49811.99062      14013.034510   \n",
       "499        marlal       1  46.731152    61370.67766       9391.341628   \n",
       "\n",
       "       net worth  car purchase amount  \n",
       "0    238961.2505          35321.45877  \n",
       "1    530973.9078          45115.52566  \n",
       "2    638467.1773          42925.70921  \n",
       "3    548599.0524          67422.36313  \n",
       "4    560304.0671          55915.46248  \n",
       "..           ...                  ...  \n",
       "495  541670.1016          48901.44342  \n",
       "496  360419.0988          31491.41457  \n",
       "497  764531.3203          64147.28888  \n",
       "498  337826.6382          45442.15353  \n",
       "499  462946.4924          45107.22566  \n",
       "\n",
       "[500 rows x 9 columns]"
      ]
     },
     "execution_count": 19,
     "metadata": {},
     "output_type": "execute_result"
    }
   ],
   "source": [
    "import numpy as np # linear algebra\n",
    "import matplotlib.pyplot as plt # data visualization\n",
    "from mpl_toolkits.mplot3d import Axes3D\n",
    "import pandas as pd # data processing, CSV file I/O (e.g. pd.read_csv)\n",
    "import random # random number generator\n",
    "\n",
    "full_data_file = pd.read_csv('car_purchasing.csv', header=0, encoding='latin-1')\n",
    "full_data_file"
   ]
  },
  {
   "cell_type": "markdown",
   "metadata": {},
   "source": [
    "**Paso Previo y extra (Importante)**\n",
    "\n",
    "Analizamos la correlación de lsa variables para determinar cuales es conveniente asociar a la predicción del precio."
   ]
  },
  {
   "cell_type": "code",
   "execution_count": 20,
   "metadata": {},
   "outputs": [
    {
     "data": {
      "image/png": "[encoded data removed]",
      "text/plain": [
       "<Figure size 360x432 with 2 Axes>"
      ]
     },
     "metadata": {
      "needs_background": "light"
     },
     "output_type": "display_data"
    }
   ],
   "source": [
    "import seaborn as sns\n",
    "#Analizamos la correlación entre las variables de nuestro dataset\n",
    "plt.figure(figsize=(5, 6))\n",
    "#usa todas las columnas\n",
    "varsHeader = pd.read_csv('car_purchasing.csv', header=0, usecols=[3,4,5,6,7,8], encoding='latin-1')\n",
    "sns.heatmap(varsHeader.corr(), annot=True, cmap='coolwarm')\n",
    "plt.show()"
   ]
  },
  {
   "cell_type": "markdown",
   "metadata": {},
   "source": [
    "**Creamos la regresión múltiple.**\n",
    "\n",
    "Definimos la clase de nuestra regresión múltiple junto a sus métodos."
   ]
  },
  {
   "cell_type": "code",
   "execution_count": 21,
   "metadata": {},
   "outputs": [],
   "source": [
    "class MultipleRegression:\n",
    "    def __init__(self, learning_rate=0.01, n_iter=1000):\n",
    "        self.learning_rate = learning_rate\n",
    "        self.n_iter = n_iter\n",
    "        self.coef_ = None\n",
    "        self.intercept_ = None\n",
    "\n",
    "    def fit(self, X, y):\n",
    "        # Add a column of ones to X to account for the intercept\n",
    "        x_with_intercept = np.column_stack((np.ones(len(X)), X))\n",
    "\n",
    "        # Initialize the random coefficients\n",
    "        self.coef_ = np.random.randn(x_with_intercept.shape[1])\n",
    "\n",
    "        # Gradient descent\n",
    "        for _ in range(self.n_iter):\n",
    "            gradient = -2 * x_with_intercept.T @ (y - (x_with_intercept @ self.coef_))\n",
    "            self.coef_ -= self.learning_rate * gradient\n",
    "\n",
    "        # The first coefficient is the intercept\n",
    "        self.intercept_ = self.coef_[0]\n",
    "        self.coef_ = self.coef_[1:]\n",
    "\n",
    "    def predict(self, X):\n",
    "        # Add a column of ones to X to account for the intercept\n",
    "        x_with_intercept = np.column_stack((np.ones(len(X)), X))\n",
    "        \n",
    "        return x_with_intercept @ np.concatenate(([self.intercept_], self.coef_))\n"
   ]
  },
  {
   "cell_type": "markdown",
   "metadata": {},
   "source": [
    "**Realizamos el Train-Test Split**\n",
    "\n",
    "Extraemos los datos que utilizaremos, considerando un 60% para el conjunto de entrenamiento y 40% para el de pruebas."
   ]
  },
  {
   "cell_type": "code",
   "execution_count": 22,
   "metadata": {},
   "outputs": [
    {
     "data": {
      "text/html": [
       "<div>\n",
       "<style scoped>\n",
       "    .dataframe tbody tr th:only-of-type {\n",
       "        vertical-align: middle;\n",
       "    }\n",
       "\n",
       "    .dataframe tbody tr th {\n",
       "        vertical-align: top;\n",
       "    }\n",
       "\n",
       "    .dataframe thead th {\n",
       "        text-align: right;\n",
       "    }\n",
       "</style>\n",
       "<table border=\"1\" class=\"dataframe\">\n",
       "  <thead>\n",
       "    <tr style=\"text-align: right;\">\n",
       "      <th></th>\n",
       "      <th>age</th>\n",
       "      <th>annual Salary</th>\n",
       "      <th>car purchase amount</th>\n",
       "    </tr>\n",
       "  </thead>\n",
       "  <tbody>\n",
       "    <tr>\n",
       "      <th>0</th>\n",
       "      <td>41.851720</td>\n",
       "      <td>62812.09301</td>\n",
       "      <td>35321.45877</td>\n",
       "    </tr>\n",
       "    <tr>\n",
       "      <th>1</th>\n",
       "      <td>40.870623</td>\n",
       "      <td>66646.89292</td>\n",
       "      <td>45115.52566</td>\n",
       "    </tr>\n",
       "    <tr>\n",
       "      <th>2</th>\n",
       "      <td>43.152897</td>\n",
       "      <td>53798.55112</td>\n",
       "      <td>42925.70921</td>\n",
       "    </tr>\n",
       "    <tr>\n",
       "      <th>3</th>\n",
       "      <td>58.271369</td>\n",
       "      <td>79370.03798</td>\n",
       "      <td>67422.36313</td>\n",
       "    </tr>\n",
       "    <tr>\n",
       "      <th>4</th>\n",
       "      <td>57.313749</td>\n",
       "      <td>59729.15130</td>\n",
       "      <td>55915.46248</td>\n",
       "    </tr>\n",
       "    <tr>\n",
       "      <th>...</th>\n",
       "      <td>...</td>\n",
       "      <td>...</td>\n",
       "      <td>...</td>\n",
       "    </tr>\n",
       "    <tr>\n",
       "      <th>495</th>\n",
       "      <td>41.462515</td>\n",
       "      <td>71942.40291</td>\n",
       "      <td>48901.44342</td>\n",
       "    </tr>\n",
       "    <tr>\n",
       "      <th>496</th>\n",
       "      <td>37.642000</td>\n",
       "      <td>56039.49793</td>\n",
       "      <td>31491.41457</td>\n",
       "    </tr>\n",
       "    <tr>\n",
       "      <th>497</th>\n",
       "      <td>53.943497</td>\n",
       "      <td>68888.77805</td>\n",
       "      <td>64147.28888</td>\n",
       "    </tr>\n",
       "    <tr>\n",
       "      <th>498</th>\n",
       "      <td>59.160509</td>\n",
       "      <td>49811.99062</td>\n",
       "      <td>45442.15353</td>\n",
       "    </tr>\n",
       "    <tr>\n",
       "      <th>499</th>\n",
       "      <td>46.731152</td>\n",
       "      <td>61370.67766</td>\n",
       "      <td>45107.22566</td>\n",
       "    </tr>\n",
       "  </tbody>\n",
       "</table>\n",
       "<p>500 rows × 3 columns</p>\n",
       "</div>"
      ],
      "text/plain": [
       "           age  annual Salary  car purchase amount\n",
       "0    41.851720    62812.09301          35321.45877\n",
       "1    40.870623    66646.89292          45115.52566\n",
       "2    43.152897    53798.55112          42925.70921\n",
       "3    58.271369    79370.03798          67422.36313\n",
       "4    57.313749    59729.15130          55915.46248\n",
       "..         ...            ...                  ...\n",
       "495  41.462515    71942.40291          48901.44342\n",
       "496  37.642000    56039.49793          31491.41457\n",
       "497  53.943497    68888.77805          64147.28888\n",
       "498  59.160509    49811.99062          45442.15353\n",
       "499  46.731152    61370.67766          45107.22566\n",
       "\n",
       "[500 rows x 3 columns]"
      ]
     },
     "execution_count": 22,
     "metadata": {},
     "output_type": "execute_result"
    }
   ],
   "source": [
    "#age = column 4\n",
    "x1 = pd.read_csv('car_purchasing.csv', usecols=[4], encoding='latin-1').values\n",
    "#annual salary = column 5\n",
    "x2 = pd.read_csv('car_purchasing.csv', usecols=[5], encoding='latin-1').values\n",
    "#car purchase amount = column 8\n",
    "y = pd.read_csv('car_purchasing.csv', usecols=[8], encoding='latin-1').values\n",
    "\n",
    "# Determinate the size of the training set(60%) and the test set(40%)\n",
    "train_size = int(0.6 * len(x1))\n",
    "\n",
    "#Show the data in table with the columns\n",
    "filtdata = pd.read_csv('car_purchasing.csv',  header=0, usecols=[4, 5, 8], encoding='latin-1')\n",
    "filtdata"
   ]
  },
  {
   "cell_type": "markdown",
   "metadata": {},
   "source": [
    "**Implementación de la validación cruzada.**\n",
    "\n",
    "Realizamos la validación cruzada, seleccionando aleatoriamente los datos para el conjunto de entrenamiento.\n",
    "\n",
    "Evidentemente, realizaremos nuestro **entrenamiento** un cierto número de veces para obtener una metrica de evaluación."
   ]
  },
  {
   "cell_type": "code",
   "execution_count": 23,
   "metadata": {},
   "outputs": [
    {
     "name": "stdout",
     "output_type": "stream",
     "text": [
      "El promedio de la validación cruzada(MSE) es:  73445632.6050857\n"
     ]
    }
   ],
   "source": [
    "#Cross Validation\n",
    "vec_result = []\n",
    "for i in range(5):\n",
    "    # Shuffle the data indices to apply cross-validation\n",
    "    idx = list(range(len(x1)))\n",
    "    random.shuffle(idx)\n",
    "\n",
    "    # Split the data into training and test sets\n",
    "    x1_train = x1[idx[:train_size]]\n",
    "    x2_train = x2[idx[:train_size]]\n",
    "    y_train = y[idx[:train_size]]\n",
    "\n",
    "    x1_test = x1[idx[train_size:]]\n",
    "    x2_test = x2[idx[train_size:]]\n",
    "    y_test = y[idx[train_size:]]\n",
    "\n",
    "    # Convert the data to numpy arrays in one column\n",
    "    x1_train = x1_train.flatten()\n",
    "    x2_train = x2_train.flatten()\n",
    "    y_train = y_train.flatten()\n",
    "    \n",
    "    # Prepare the data\n",
    "    X = np.column_stack((x1_train, x2_train))\n",
    "\n",
    "    # Create the model\n",
    "    model = MultipleRegression(learning_rate=0.0000000000001, n_iter=100000)\n",
    "\n",
    "    # Train the model\n",
    "    model.fit(X, y_train)\n",
    "\n",
    "    #Evaluate using the MSE and with training data\n",
    "    y_pred = model.predict(X)\n",
    "    mse = np.mean((y_pred - y_train) ** 2)\n",
    "    vec_result.append(mse)\n",
    "\n",
    "#Show results\n",
    "mean = np.mean(vec_result)\n",
    "print(\"El promedio de la validación cruzada(MSE) es: \", mean)"
   ]
  },
  {
   "cell_type": "markdown",
   "metadata": {},
   "source": [
    "Graficamos la regresión resultante de nuestro entrenamiento."
   ]
  },
  {
   "cell_type": "code",
   "execution_count": 24,
   "metadata": {},
   "outputs": [
    {
     "data": {
      "image/png": "[encoded data removed]",
      "text/plain": [
       "<Figure size 432x288 with 1 Axes>"
      ]
     },
     "metadata": {
      "needs_background": "light"
     },
     "output_type": "display_data"
    }
   ],
   "source": [
    "# Graph the data and the hiperplane\n",
    "fig = plt.figure()\n",
    "ax = fig.add_subplot(projection='3d')\n",
    "\n",
    "# Scatter the data\n",
    "ax.scatter(x1_train, x2_train, y_train, color= 'b', marker = 'o')\n",
    "\n",
    "# Surface of the hiperplane\n",
    "xx1, xx2 = np.meshgrid(x1_train, x2_train)\n",
    "\n",
    "# Equation of the hiperplane\n",
    "yy = model.intercept_ + model.coef_[0] * xx1 + model.coef_[1] * xx2\n",
    "ax.plot_surface(xx1, xx2, yy, color='r', alpha=0.1)\n",
    "\n",
    "# Set the labels\n",
    "ax.set_xlabel('Age')\n",
    "ax.set_ylabel('Annual Salary')\n",
    "ax.set_zlabel('Car Purchase Amount')\n",
    "ax.azim = 10 #azim is the azimuth angle in the x,y plane\n",
    "ax.elev = 15 #elev is the elevation angle in the z plane"
   ]
  },
  {
   "cell_type": "markdown",
   "metadata": {},
   "source": [
    "Mostramos los coeficientes de la regresión."
   ]
  },
  {
   "cell_type": "code",
   "execution_count": 25,
   "metadata": {},
   "outputs": [
    {
     "name": "stdout",
     "output_type": "stream",
     "text": [
      "Intercept: 0.3824144779362848\n",
      "Coeficients: [-0.26924379  0.70141791]\n"
     ]
    }
   ],
   "source": [
    "#Coeficients of the regression (intercept and the coeficients of the variables)\n",
    "print('Intercept:', model.intercept_)\n",
    "print('Coeficients:', model.coef_)"
   ]
  },
  {
   "cell_type": "markdown",
   "metadata": {},
   "source": [
    "**Prueba del modelo.**\n",
    "\n",
    "Realizamos las predicciones de nuestro modelo."
   ]
  },
  {
   "cell_type": "code",
   "execution_count": 26,
   "metadata": {},
   "outputs": [
    {
     "name": "stdout",
     "output_type": "stream",
     "text": [
      "Predicciones [:5]: [36055.36040857 50383.99883093 38215.90282821 45750.96783625\n",
      " 38870.37087009]\n",
      "\n",
      "Valores reales [:5]: [41425.00116 47483.85316 44633.99241 53496.48183 37093.92033]\n"
     ]
    },
    {
     "data": {
      "image/png": "[encoded data removed]",
      "text/plain": [
       "<Figure size 432x288 with 1 Axes>"
      ]
     },
     "metadata": {
      "needs_background": "light"
     },
     "output_type": "display_data"
    }
   ],
   "source": [
    "predicciones = model.predict(np.column_stack((x1_test, x2_test)))\n",
    "print('Predicciones [:5]:', predicciones[:5])\n",
    "print('\\nValores reales [:5]:', y_test.flatten()[:5])\n",
    "\n",
    "# Show the graph\n",
    "fig = plt.figure()\n",
    "ax = fig.add_subplot(projection='3d')\n",
    "ax.scatter(x1_test, x2_test, predicciones, c = 'g', marker = 'o')\n",
    "ax.scatter(x1_test, x2_test, y_test, c = 'b', marker = 'o')\n",
    "ax.set_xlabel('Age')\n",
    "ax.set_ylabel('Annual Salary')\n",
    "ax.set_zlabel('Car Purchase Amount')\n",
    "ax.azim = 10\n",
    "ax.elev = 15\n",
    "plt.show()\n"
   ]
  }
 ],
 "metadata": {
  "kernelspec": {
   "display_name": "Python 3",
   "language": "python",
   "name": "python3"
  },
  "language_info": {
   "codemirror_mode": {
    "name": "ipython",
    "version": 3
   },
   "file_extension": ".py",
   "mimetype": "text/x-python",
   "name": "python",
   "nbconvert_exporter": "python",
   "pygments_lexer": "ipython3",
   "version": "3.10.12"
  }
 },
 "nbformat": 4,
 "nbformat_minor": 2
}
