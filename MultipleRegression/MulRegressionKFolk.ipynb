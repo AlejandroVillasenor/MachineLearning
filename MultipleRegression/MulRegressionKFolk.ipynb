{
 "cells": [
  {
   "cell_type": "markdown",
   "metadata": {},
   "source": [
    "**Regresión lineal múltiple.**\n",
    "\n",
    "Uso de valicación cruzada K-Folk, así como diversas librerías de Python.\n",
    "\n",
    "Hello, I'm Go1234550"
   ]
  },
  {
   "cell_type": "markdown",
   "metadata": {},
   "source": [
    "Realizaremos una regresión lineal múltiple para predecir el precio de compra de un vehículo haciendo uso de las siguientes variables:\n",
    "\n",
    "* annual Salary: Indica el salario anual que percibe una persona.\n",
    "\n",
    "* age: Corresponde a la edad de la persona.\n",
    "\n",
    "Se consideran estas variables ya que son las que tienen mayor correlación con nuestra variable a predecir."
   ]
  },
  {
   "cell_type": "markdown",
   "metadata": {},
   "source": [
    "**Importamos las librerías.**\n",
    "\n",
    "Importamos las librerías necesarias y, además, leemos nuestro *dataset*."
   ]
  },
  {
   "cell_type": "code",
   "execution_count": 8,
   "metadata": {},
   "outputs": [
    {
     "data": {
      "text/html": [
       "<div>\n",
       "<style scoped>\n",
       "    .dataframe tbody tr th:only-of-type {\n",
       "        vertical-align: middle;\n",
       "    }\n",
       "\n",
       "    .dataframe tbody tr th {\n",
       "        vertical-align: top;\n",
       "    }\n",
       "\n",
       "    .dataframe thead th {\n",
       "        text-align: right;\n",
       "    }\n",
       "</style>\n",
       "<table border=\"1\" class=\"dataframe\">\n",
       "  <thead>\n",
       "    <tr style=\"text-align: right;\">\n",
       "      <th></th>\n",
       "      <th>customer name</th>\n",
       "      <th>customer e-mail</th>\n",
       "      <th>country</th>\n",
       "      <th>gender</th>\n",
       "      <th>age</th>\n",
       "      <th>annual Salary</th>\n",
       "      <th>credit card debt</th>\n",
       "      <th>net worth</th>\n",
       "      <th>car purchase amount</th>\n",
       "    </tr>\n",
       "  </thead>\n",
       "  <tbody>\n",
       "    <tr>\n",
       "      <th>0</th>\n",
       "      <td>Martina Avila</td>\n",
       "      <td>cubilia.Curae.Phasellus@quisaccumsanconvallis.edu</td>\n",
       "      <td>Bulgaria</td>\n",
       "      <td>0</td>\n",
       "      <td>41.851720</td>\n",
       "      <td>62812.09301</td>\n",
       "      <td>11609.380910</td>\n",
       "      <td>238961.2505</td>\n",
       "      <td>35321.45877</td>\n",
       "    </tr>\n",
       "    <tr>\n",
       "      <th>1</th>\n",
       "      <td>Harlan Barnes</td>\n",
       "      <td>eu.dolor@diam.co.uk</td>\n",
       "      <td>Belize</td>\n",
       "      <td>0</td>\n",
       "      <td>40.870623</td>\n",
       "      <td>66646.89292</td>\n",
       "      <td>9572.957136</td>\n",
       "      <td>530973.9078</td>\n",
       "      <td>45115.52566</td>\n",
       "    </tr>\n",
       "    <tr>\n",
       "      <th>2</th>\n",
       "      <td>Naomi Rodriquez</td>\n",
       "      <td>vulputate.mauris.sagittis@ametconsectetueradip...</td>\n",
       "      <td>Algeria</td>\n",
       "      <td>1</td>\n",
       "      <td>43.152897</td>\n",
       "      <td>53798.55112</td>\n",
       "      <td>11160.355060</td>\n",
       "      <td>638467.1773</td>\n",
       "      <td>42925.70921</td>\n",
       "    </tr>\n",
       "    <tr>\n",
       "      <th>3</th>\n",
       "      <td>Jade Cunningham</td>\n",
       "      <td>malesuada@dignissim.com</td>\n",
       "      <td>Cook Islands</td>\n",
       "      <td>1</td>\n",
       "      <td>58.271369</td>\n",
       "      <td>79370.03798</td>\n",
       "      <td>14426.164850</td>\n",
       "      <td>548599.0524</td>\n",
       "      <td>67422.36313</td>\n",
       "    </tr>\n",
       "    <tr>\n",
       "      <th>4</th>\n",
       "      <td>Cedric Leach</td>\n",
       "      <td>felis.ullamcorper.viverra@egetmollislectus.net</td>\n",
       "      <td>Brazil</td>\n",
       "      <td>1</td>\n",
       "      <td>57.313749</td>\n",
       "      <td>59729.15130</td>\n",
       "      <td>5358.712177</td>\n",
       "      <td>560304.0671</td>\n",
       "      <td>55915.46248</td>\n",
       "    </tr>\n",
       "    <tr>\n",
       "      <th>...</th>\n",
       "      <td>...</td>\n",
       "      <td>...</td>\n",
       "      <td>...</td>\n",
       "      <td>...</td>\n",
       "      <td>...</td>\n",
       "      <td>...</td>\n",
       "      <td>...</td>\n",
       "      <td>...</td>\n",
       "      <td>...</td>\n",
       "    </tr>\n",
       "    <tr>\n",
       "      <th>495</th>\n",
       "      <td>Walter</td>\n",
       "      <td>ligula@Cumsociis.ca</td>\n",
       "      <td>Nepal</td>\n",
       "      <td>0</td>\n",
       "      <td>41.462515</td>\n",
       "      <td>71942.40291</td>\n",
       "      <td>6995.902524</td>\n",
       "      <td>541670.1016</td>\n",
       "      <td>48901.44342</td>\n",
       "    </tr>\n",
       "    <tr>\n",
       "      <th>496</th>\n",
       "      <td>Vanna</td>\n",
       "      <td>Cum.sociis.natoque@Sedmolestie.edu</td>\n",
       "      <td>Zimbabwe</td>\n",
       "      <td>1</td>\n",
       "      <td>37.642000</td>\n",
       "      <td>56039.49793</td>\n",
       "      <td>12301.456790</td>\n",
       "      <td>360419.0988</td>\n",
       "      <td>31491.41457</td>\n",
       "    </tr>\n",
       "    <tr>\n",
       "      <th>497</th>\n",
       "      <td>Pearl</td>\n",
       "      <td>penatibus.et@massanonante.com</td>\n",
       "      <td>Philippines</td>\n",
       "      <td>1</td>\n",
       "      <td>53.943497</td>\n",
       "      <td>68888.77805</td>\n",
       "      <td>10611.606860</td>\n",
       "      <td>764531.3203</td>\n",
       "      <td>64147.28888</td>\n",
       "    </tr>\n",
       "    <tr>\n",
       "      <th>498</th>\n",
       "      <td>Nell</td>\n",
       "      <td>Quisque.varius@arcuVivamussit.net</td>\n",
       "      <td>Botswana</td>\n",
       "      <td>1</td>\n",
       "      <td>59.160509</td>\n",
       "      <td>49811.99062</td>\n",
       "      <td>14013.034510</td>\n",
       "      <td>337826.6382</td>\n",
       "      <td>45442.15353</td>\n",
       "    </tr>\n",
       "    <tr>\n",
       "      <th>499</th>\n",
       "      <td>Marla</td>\n",
       "      <td>Camaron.marla@hotmail.com</td>\n",
       "      <td>marlal</td>\n",
       "      <td>1</td>\n",
       "      <td>46.731152</td>\n",
       "      <td>61370.67766</td>\n",
       "      <td>9391.341628</td>\n",
       "      <td>462946.4924</td>\n",
       "      <td>45107.22566</td>\n",
       "    </tr>\n",
       "  </tbody>\n",
       "</table>\n",
       "<p>500 rows × 9 columns</p>\n",
       "</div>"
      ],
      "text/plain": [
       "       customer name                                    customer e-mail  \\\n",
       "0      Martina Avila  cubilia.Curae.Phasellus@quisaccumsanconvallis.edu   \n",
       "1      Harlan Barnes                                eu.dolor@diam.co.uk   \n",
       "2    Naomi Rodriquez  vulputate.mauris.sagittis@ametconsectetueradip...   \n",
       "3    Jade Cunningham                            malesuada@dignissim.com   \n",
       "4       Cedric Leach     felis.ullamcorper.viverra@egetmollislectus.net   \n",
       "..               ...                                                ...   \n",
       "495           Walter                                ligula@Cumsociis.ca   \n",
       "496            Vanna                 Cum.sociis.natoque@Sedmolestie.edu   \n",
       "497            Pearl                      penatibus.et@massanonante.com   \n",
       "498             Nell                  Quisque.varius@arcuVivamussit.net   \n",
       "499            Marla                          Camaron.marla@hotmail.com   \n",
       "\n",
       "          country  gender        age  annual Salary  credit card debt  \\\n",
       "0        Bulgaria       0  41.851720    62812.09301      11609.380910   \n",
       "1          Belize       0  40.870623    66646.89292       9572.957136   \n",
       "2         Algeria       1  43.152897    53798.55112      11160.355060   \n",
       "3    Cook Islands       1  58.271369    79370.03798      14426.164850   \n",
       "4          Brazil       1  57.313749    59729.15130       5358.712177   \n",
       "..            ...     ...        ...            ...               ...   \n",
       "495         Nepal       0  41.462515    71942.40291       6995.902524   \n",
       "496      Zimbabwe       1  37.642000    56039.49793      12301.456790   \n",
       "497   Philippines       1  53.943497    68888.77805      10611.606860   \n",
       "498      Botswana       1  59.160509    49811.99062      14013.034510   \n",
       "499        marlal       1  46.731152    61370.67766       9391.341628   \n",
       "\n",
       "       net worth  car purchase amount  \n",
       "0    238961.2505          35321.45877  \n",
       "1    530973.9078          45115.52566  \n",
       "2    638467.1773          42925.70921  \n",
       "3    548599.0524          67422.36313  \n",
       "4    560304.0671          55915.46248  \n",
       "..           ...                  ...  \n",
       "495  541670.1016          48901.44342  \n",
       "496  360419.0988          31491.41457  \n",
       "497  764531.3203          64147.28888  \n",
       "498  337826.6382          45442.15353  \n",
       "499  462946.4924          45107.22566  \n",
       "\n",
       "[500 rows x 9 columns]"
      ]
     },
     "execution_count": 8,
     "metadata": {},
     "output_type": "execute_result"
    }
   ],
   "source": [
    "import numpy as np\n",
    "import matplotlib.pyplot as plt\n",
    "from mpl_toolkits.mplot3d import Axes3D\n",
    "import pandas as pd\n",
    "from sklearn.linear_model import LinearRegression\n",
    "from sklearn.model_selection import train_test_split\n",
    "from sklearn.model_selection import KFold\n",
    "\n",
    "full_data_file = pd.read_csv('car_purchasing.csv', header=0, encoding='latin-1')\n",
    "full_data_file"
   ]
  },
  {
   "cell_type": "markdown",
   "metadata": {},
   "source": [
    "**Realizamos el Train-Test Split**\n",
    "\n",
    "Extraemos los datos que utilizaremos, considerando un 60% para el conjunto de entrenamiento y 40% para el de pruebas."
   ]
  },
  {
   "cell_type": "code",
   "execution_count": 3,
   "metadata": {},
   "outputs": [],
   "source": [
    "# Extracting the data from the file\n",
    "x = full_data_file[['age', 'annual Salary']].values\n",
    "y = full_data_file[['car purchase amount']].values\n",
    "\n",
    "# Train test split 60% train, 40% test\n",
    "x_train, x_test, y_train, y_test = train_test_split(x, y, test_size=0.4, random_state=0)"
   ]
  },
  {
   "cell_type": "markdown",
   "metadata": {},
   "source": [
    "**Implementación de la validación cruzada K-Fold**\n",
    "\n",
    "Realizamos nuestra validación cruzada K-Fold con 5 lotes."
   ]
  },
  {
   "cell_type": "code",
   "execution_count": 4,
   "metadata": {},
   "outputs": [
    {
     "name": "stdout",
     "output_type": "stream",
     "text": [
      "El promedio de la validación cruzada(MSE) es:  25772477.63964992\n"
     ]
    }
   ],
   "source": [
    "# Number of folds for cross validation\n",
    "n_folds = 5\n",
    "\n",
    "# Create the cross-validation object\n",
    "kfold = KFold(n_folds)\n",
    "\n",
    "# Vector to store the cross-validation scores(MSE)\n",
    "cross_val_mse = []\n",
    "\n",
    "# Iterate over the folds\n",
    "for train_index, test_index in kfold.split(x_train):\n",
    "    # Split the data \n",
    "    x_train_k, x_test_k = x_train[train_index], x_train[test_index]\n",
    "    y_train_k, y_test_k = y_train[train_index], y_train[test_index]\n",
    "    \n",
    "    # Create the model\n",
    "    model = LinearRegression()\n",
    "    # Fit the model\n",
    "    model.fit(x_train_k, y_train_k)\n",
    "    # Evaluate the model with the train data and MSE\n",
    "    mse = np.mean((model.predict(x_test_k) - y_test_k) ** 2)\n",
    "    # Store the score\n",
    "    cross_val_mse.append(mse)\n",
    "\n",
    "# Print the mean of the cross_val_scores\n",
    "mean_cross_val_mse = np.mean(cross_val_mse)\n",
    "print(\"El promedio de la validación cruzada(MSE) es: \", mean_cross_val_mse)"
   ]
  },
  {
   "cell_type": "markdown",
   "metadata": {},
   "source": [
    "Graficamos la regresión resultante de nuestro entrenamiento."
   ]
  },
  {
   "cell_type": "code",
   "execution_count": 5,
   "metadata": {},
   "outputs": [
    {
     "data": {
      "image/png": "[encoded data removed]",
      "text/plain": [
       "<Figure size 432x288 with 1 Axes>"
      ]
     },
     "metadata": {
      "needs_background": "light"
     },
     "output_type": "display_data"
    }
   ],
   "source": [
    "# Graph the data and the hiperplane\n",
    "fig = plt.figure()\n",
    "ax = fig.add_subplot(projection='3d')\n",
    "\n",
    "# Scatter plot the data\n",
    "ax.scatter(x_train[:,0], x_train[:,1], y_train, c='b', marker='o')\n",
    "\n",
    "# Surface of the hiperplane\n",
    "xx1, xx2 = np.meshgrid(x_train[:,0], x_train[:,1])\n",
    "# Equation of the hiperplane\n",
    "yy = model.intercept_ + model.coef_[0][0]*xx1 + model.coef_[0][1]*xx2\n",
    "\n",
    "# Plot the surface\n",
    "ax.plot_surface(xx1, xx2, yy, color='r', alpha=0.2)\n",
    "\n",
    "# Set the labels\n",
    "ax.set_xlabel('Age')\n",
    "ax.set_ylabel('Annual Salary')\n",
    "ax.set_zlabel('Car Purchase Amount')\n",
    "ax.azim = 10\n",
    "ax.elev = 15"
   ]
  },
  {
   "cell_type": "markdown",
   "metadata": {},
   "source": [
    "Mostramos los coeficientes de la regresión."
   ]
  },
  {
   "cell_type": "code",
   "execution_count": 6,
   "metadata": {},
   "outputs": [
    {
     "name": "stdout",
     "output_type": "stream",
     "text": [
      "Intercept: [-30730.0819438]\n",
      "Coeficients: [[8.35931873e+02 5.84070121e-01]]\n"
     ]
    }
   ],
   "source": [
    "#Coeficients of the regression (intercept and the coeficients of the variables)\n",
    "print('Intercept:', model.intercept_)\n",
    "print('Coeficients:', model.coef_)"
   ]
  },
  {
   "cell_type": "markdown",
   "metadata": {},
   "source": [
    "**Prueba del modelo.**\n",
    "\n",
    "Realizamos las predicciones de nuestro modelo."
   ]
  },
  {
   "cell_type": "code",
   "execution_count": 7,
   "metadata": {},
   "outputs": [
    {
     "name": "stdout",
     "output_type": "stream",
     "text": [
      "MSE test:  25229578.155776158\n",
      "Predicciones [:5]:  [46387.13071969 47113.12377686 37934.1786899  57823.90857627\n",
      " 35737.15224102]\n",
      "Valores reales [:5]:  [38955.21919 43401.56612 29417.64694 52150.41786 38243.06228]\n"
     ]
    },
    {
     "data": {
      "image/png": "[encoded data removed]",
      "text/plain": [
       "<Figure size 432x288 with 1 Axes>"
      ]
     },
     "metadata": {
      "needs_background": "light"
     },
     "output_type": "display_data"
    }
   ],
   "source": [
    "predicciones = model.predict(x_test)\n",
    "mse_test = np.mean((predicciones - y_test) ** 2)\n",
    "print('MSE test: ', mse_test)\n",
    "print('Predicciones [:5]: ', predicciones.flatten()[:5])\n",
    "print('Valores reales [:5]: ', y_test.flatten()[:5])\n",
    "\n",
    "# Plot the data\n",
    "fig = plt.figure()\n",
    "ax = fig.add_subplot(projection='3d')\n",
    "ax.scatter(x_test[:,0], x_test[:,1], y_test, c='b', marker='o')\n",
    "ax.scatter(x_test[:,0], x_test[:,1], predicciones, c='g', marker='o')\n",
    "ax.set_xlabel('Age')\n",
    "ax.set_ylabel('Annual Salary')\n",
    "ax.set_zlabel('Car Purchase Amount')\n",
    "ax.azim = 10\n",
    "ax.elev = 15\n",
    "plt.show()"
   ]
  }
 ],
 "metadata": {
  "kernelspec": {
   "display_name": "Python 3",
   "language": "python",
   "name": "python3"
  },
  "language_info": {
   "codemirror_mode": {
    "name": "ipython",
    "version": 3
   },
   "file_extension": ".py",
   "mimetype": "text/x-python",
   "name": "python",
   "nbconvert_exporter": "python",
   "pygments_lexer": "ipython3",
   "version": "3.10.12"
  }
 },
 "nbformat": 4,
 "nbformat_minor": 2
}
