{
 "cells": [
  {
   "cell_type": "markdown",
   "metadata": {},
   "source": [
    "**Regresión polinomial.**\n",
    "\n",
    "*Uso de la validación cruzada.*\n",
    "\n",
    "Hello, I'm Go1234550"
   ]
  },
  {
   "cell_type": "markdown",
   "metadata": {},
   "source": [
    "Realizaremos una regresión lineal múltiple para predecir el precio de una casa haciendo uso de las siguientes variables:\n",
    "\n",
    "    - sqft_living(pies cuadrados de área habitable): Indica el área total, en pies cuadrados, de la superficie habitable de una vivienda.\n",
    "\n",
    "    - bedrooms: Numero de cuartos que cuenta la vivienda.\n",
    "    \n",
    "    - bathrooms: Cantidad de baños en la vivienda.\n",
    "\n",
    "Se consideran estas variables ya que son las que tienen mayor influencia para la determinación del precio de una propiedad."
   ]
  }
 ],
 "metadata": {
  "language_info": {
   "name": "python"
  }
 },
 "nbformat": 4,
 "nbformat_minor": 2
}
