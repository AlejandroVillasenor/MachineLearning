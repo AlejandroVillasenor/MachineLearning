{
 "cells": [
  {
   "cell_type": "markdown",
   "metadata": {},
   "source": [
    "**Regresión polinomial.**\n",
    "\n",
    "*Uso de la validación cruzada (método del gradiente).*\n",
    "\n",
    "Hello, I'm Go1234550"
   ]
  },
  {
   "cell_type": "markdown",
   "metadata": {},
   "source": [
    "Realizaremos una regresión lineal múltiple para predecir el precio de una casa haciendo uso de las siguientes variables:\n",
    "\n",
    "* sqft_living(pies cuadrados de área habitable): Indica el área total, en pies cuadrados, de la superficie habitable de una vivienda.\n",
    "\n",
    "* bedrooms: Numero de cuartos que cuenta la vivienda.\n",
    "\n",
    "Se consideran estas variables ya que son las que tienen mayor influencia para la determinación del precio de una propiedad.\n",
    "\n",
    "Dataset utilizado: https://www.kaggle.com/code/laeclover/predicci-n-de-venta-de-casa/notebook"
   ]
  },
  {
   "cell_type": "markdown",
   "metadata": {},
   "source": [
    "**Importamos las librerías.**"
   ]
  },
  {
   "cell_type": "code",
   "execution_count": 3,
   "metadata": {},
   "outputs": [],
   "source": [
    "import numpy as np\n",
    "import matplotlib.pyplot as plt\n",
    "from mpl_toolkits.mplot3d import Axes3D\n",
    "import pandas as pd"
   ]
  },
  {
   "cell_type": "markdown",
   "metadata": {},
   "source": [
    "**Creamos la regresión múltiple.**"
   ]
  },
  {
   "cell_type": "markdown",
   "metadata": {},
   "source": [
    "Definimos la clase de nuestra regresión múltiple junto a sus métodos."
   ]
  },
  {
   "cell_type": "code",
   "execution_count": 2,
   "metadata": {},
   "outputs": [],
   "source": [
    "class MultipleRegression:\n",
    "    def __init__(self, learning_rate=0.01, n_iter=1000):\n",
    "        self.learning_rate = learning_rate\n",
    "        self.n_iter = n_iter\n",
    "        self.coef_ = None\n",
    "        self.intercept_ = None\n",
    "\n",
    "    def fit(self, X, y):\n",
    "        # Add a column of ones to X to account for the intercept\n",
    "        x_with_intercept = np.column_stack((np.ones(len(X)), X))\n",
    "\n",
    "        # Initialize the random coefficients\n",
    "        self.coef_ = np.random.rand(x_with_intercept.shape[1])\n",
    "\n",
    "        # Gradient descent\n",
    "        for _ in range(self.n_iter):\n",
    "            gradient = -2 * x_with_intercept.T @ (y - x_with_intercept @ self.coef_)\n",
    "            self.coef_ -= self.learning_rate * gradient\n",
    "\n",
    "        # The first coefficient is the intercept\n",
    "        self.intercept_ = self.coef_[0]\n",
    "        self.coef_ = self.coef_[1:]\n",
    "\n",
    "    def predict(self, X):\n",
    "        # Add a column of ones to X to account for the intercept\n",
    "        x_with_intercept = np.column_stack((np.ones(len(X)), X))\n",
    "        return x_with_intercept @ np.concatenate(([self.intercept_], self.coef_))\n"
   ]
  },
  {
   "cell_type": "markdown",
   "metadata": {},
   "source": [
    "Extraemos los datos que utilizaremos, considerando un 60% para el conjunto de entrenamiento y 40% para el de pruebas."
   ]
  },
  {
   "cell_type": "code",
   "execution_count": null,
   "metadata": {},
   "outputs": [],
   "source": []
  }
 ],
 "metadata": {
  "kernelspec": {
   "display_name": "Python 3",
   "language": "python",
   "name": "python3"
  },
  "language_info": {
   "codemirror_mode": {
    "name": "ipython",
    "version": 3
   },
   "file_extension": ".py",
   "mimetype": "text/x-python",
   "name": "python",
   "nbconvert_exporter": "python",
   "pygments_lexer": "ipython3",
   "version": "3.10.12"
  }
 },
 "nbformat": 4,
 "nbformat_minor": 2
}
