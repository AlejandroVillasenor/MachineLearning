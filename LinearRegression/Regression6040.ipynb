{
 "cells": [
  {
   "cell_type": "markdown",
   "metadata": {},
   "source": [
    "**Regresión lineal simple.**\n",
    "\n",
    "*Usando 60% para train y 40% para test.*\n",
    "\n",
    "Hello, I'm Go1234550"
   ]
  },
  {
   "cell_type": "markdown",
   "metadata": {},
   "source": [
    "Importamos las librerías y leemos nuestro dataset."
   ]
  },
  {
   "cell_type": "code",
   "execution_count": 16,
   "metadata": {
    "colab": {
     "base_uri": "https://localhost:8080/",
     "height": 510
    },
    "executionInfo": {
     "elapsed": 131,
     "status": "ok",
     "timestamp": 1706820342216,
     "user": {
      "displayName": "KARLA AVILA CARDENAS",
      "userId": "12243875962292829927"
     },
     "user_tz": 360
    },
    "id": "3bUJmt2wH_w1",
    "outputId": "00e2db47-6144-48c3-fa6a-075072119f6d"
   },
   "outputs": [
    {
     "data": {
      "text/html": [
       "<div>\n",
       "<style scoped>\n",
       "    .dataframe tbody tr th:only-of-type {\n",
       "        vertical-align: middle;\n",
       "    }\n",
       "\n",
       "    .dataframe tbody tr th {\n",
       "        vertical-align: top;\n",
       "    }\n",
       "\n",
       "    .dataframe thead th {\n",
       "        text-align: right;\n",
       "    }\n",
       "</style>\n",
       "<table border=\"1\" class=\"dataframe\">\n",
       "  <thead>\n",
       "    <tr style=\"text-align: right;\">\n",
       "      <th></th>\n",
       "      <th>customer name</th>\n",
       "      <th>customer e-mail</th>\n",
       "      <th>country</th>\n",
       "      <th>gender</th>\n",
       "      <th>age</th>\n",
       "      <th>annual Salary</th>\n",
       "      <th>credit card debt</th>\n",
       "      <th>net worth</th>\n",
       "      <th>car purchase amount</th>\n",
       "    </tr>\n",
       "  </thead>\n",
       "  <tbody>\n",
       "    <tr>\n",
       "      <th>0</th>\n",
       "      <td>Martina Avila</td>\n",
       "      <td>cubilia.Curae.Phasellus@quisaccumsanconvallis.edu</td>\n",
       "      <td>Bulgaria</td>\n",
       "      <td>0</td>\n",
       "      <td>41.851720</td>\n",
       "      <td>62812.09301</td>\n",
       "      <td>11609.380910</td>\n",
       "      <td>238961.2505</td>\n",
       "      <td>35321.45877</td>\n",
       "    </tr>\n",
       "    <tr>\n",
       "      <th>1</th>\n",
       "      <td>Harlan Barnes</td>\n",
       "      <td>eu.dolor@diam.co.uk</td>\n",
       "      <td>Belize</td>\n",
       "      <td>0</td>\n",
       "      <td>40.870623</td>\n",
       "      <td>66646.89292</td>\n",
       "      <td>9572.957136</td>\n",
       "      <td>530973.9078</td>\n",
       "      <td>45115.52566</td>\n",
       "    </tr>\n",
       "    <tr>\n",
       "      <th>2</th>\n",
       "      <td>Naomi Rodriquez</td>\n",
       "      <td>vulputate.mauris.sagittis@ametconsectetueradip...</td>\n",
       "      <td>Algeria</td>\n",
       "      <td>1</td>\n",
       "      <td>43.152897</td>\n",
       "      <td>53798.55112</td>\n",
       "      <td>11160.355060</td>\n",
       "      <td>638467.1773</td>\n",
       "      <td>42925.70921</td>\n",
       "    </tr>\n",
       "    <tr>\n",
       "      <th>3</th>\n",
       "      <td>Jade Cunningham</td>\n",
       "      <td>malesuada@dignissim.com</td>\n",
       "      <td>Cook Islands</td>\n",
       "      <td>1</td>\n",
       "      <td>58.271369</td>\n",
       "      <td>79370.03798</td>\n",
       "      <td>14426.164850</td>\n",
       "      <td>548599.0524</td>\n",
       "      <td>67422.36313</td>\n",
       "    </tr>\n",
       "    <tr>\n",
       "      <th>4</th>\n",
       "      <td>Cedric Leach</td>\n",
       "      <td>felis.ullamcorper.viverra@egetmollislectus.net</td>\n",
       "      <td>Brazil</td>\n",
       "      <td>1</td>\n",
       "      <td>57.313749</td>\n",
       "      <td>59729.15130</td>\n",
       "      <td>5358.712177</td>\n",
       "      <td>560304.0671</td>\n",
       "      <td>55915.46248</td>\n",
       "    </tr>\n",
       "    <tr>\n",
       "      <th>...</th>\n",
       "      <td>...</td>\n",
       "      <td>...</td>\n",
       "      <td>...</td>\n",
       "      <td>...</td>\n",
       "      <td>...</td>\n",
       "      <td>...</td>\n",
       "      <td>...</td>\n",
       "      <td>...</td>\n",
       "      <td>...</td>\n",
       "    </tr>\n",
       "    <tr>\n",
       "      <th>495</th>\n",
       "      <td>Walter</td>\n",
       "      <td>ligula@Cumsociis.ca</td>\n",
       "      <td>Nepal</td>\n",
       "      <td>0</td>\n",
       "      <td>41.462515</td>\n",
       "      <td>71942.40291</td>\n",
       "      <td>6995.902524</td>\n",
       "      <td>541670.1016</td>\n",
       "      <td>48901.44342</td>\n",
       "    </tr>\n",
       "    <tr>\n",
       "      <th>496</th>\n",
       "      <td>Vanna</td>\n",
       "      <td>Cum.sociis.natoque@Sedmolestie.edu</td>\n",
       "      <td>Zimbabwe</td>\n",
       "      <td>1</td>\n",
       "      <td>37.642000</td>\n",
       "      <td>56039.49793</td>\n",
       "      <td>12301.456790</td>\n",
       "      <td>360419.0988</td>\n",
       "      <td>31491.41457</td>\n",
       "    </tr>\n",
       "    <tr>\n",
       "      <th>497</th>\n",
       "      <td>Pearl</td>\n",
       "      <td>penatibus.et@massanonante.com</td>\n",
       "      <td>Philippines</td>\n",
       "      <td>1</td>\n",
       "      <td>53.943497</td>\n",
       "      <td>68888.77805</td>\n",
       "      <td>10611.606860</td>\n",
       "      <td>764531.3203</td>\n",
       "      <td>64147.28888</td>\n",
       "    </tr>\n",
       "    <tr>\n",
       "      <th>498</th>\n",
       "      <td>Nell</td>\n",
       "      <td>Quisque.varius@arcuVivamussit.net</td>\n",
       "      <td>Botswana</td>\n",
       "      <td>1</td>\n",
       "      <td>59.160509</td>\n",
       "      <td>49811.99062</td>\n",
       "      <td>14013.034510</td>\n",
       "      <td>337826.6382</td>\n",
       "      <td>45442.15353</td>\n",
       "    </tr>\n",
       "    <tr>\n",
       "      <th>499</th>\n",
       "      <td>Marla</td>\n",
       "      <td>Camaron.marla@hotmail.com</td>\n",
       "      <td>marlal</td>\n",
       "      <td>1</td>\n",
       "      <td>46.731152</td>\n",
       "      <td>61370.67766</td>\n",
       "      <td>9391.341628</td>\n",
       "      <td>462946.4924</td>\n",
       "      <td>45107.22566</td>\n",
       "    </tr>\n",
       "  </tbody>\n",
       "</table>\n",
       "<p>500 rows × 9 columns</p>\n",
       "</div>"
      ],
      "text/plain": [
       "       customer name                                    customer e-mail  \\\n",
       "0      Martina Avila  cubilia.Curae.Phasellus@quisaccumsanconvallis.edu   \n",
       "1      Harlan Barnes                                eu.dolor@diam.co.uk   \n",
       "2    Naomi Rodriquez  vulputate.mauris.sagittis@ametconsectetueradip...   \n",
       "3    Jade Cunningham                            malesuada@dignissim.com   \n",
       "4       Cedric Leach     felis.ullamcorper.viverra@egetmollislectus.net   \n",
       "..               ...                                                ...   \n",
       "495           Walter                                ligula@Cumsociis.ca   \n",
       "496            Vanna                 Cum.sociis.natoque@Sedmolestie.edu   \n",
       "497            Pearl                      penatibus.et@massanonante.com   \n",
       "498             Nell                  Quisque.varius@arcuVivamussit.net   \n",
       "499            Marla                          Camaron.marla@hotmail.com   \n",
       "\n",
       "          country  gender        age  annual Salary  credit card debt  \\\n",
       "0        Bulgaria       0  41.851720    62812.09301      11609.380910   \n",
       "1          Belize       0  40.870623    66646.89292       9572.957136   \n",
       "2         Algeria       1  43.152897    53798.55112      11160.355060   \n",
       "3    Cook Islands       1  58.271369    79370.03798      14426.164850   \n",
       "4          Brazil       1  57.313749    59729.15130       5358.712177   \n",
       "..            ...     ...        ...            ...               ...   \n",
       "495         Nepal       0  41.462515    71942.40291       6995.902524   \n",
       "496      Zimbabwe       1  37.642000    56039.49793      12301.456790   \n",
       "497   Philippines       1  53.943497    68888.77805      10611.606860   \n",
       "498      Botswana       1  59.160509    49811.99062      14013.034510   \n",
       "499        marlal       1  46.731152    61370.67766       9391.341628   \n",
       "\n",
       "       net worth  car purchase amount  \n",
       "0    238961.2505          35321.45877  \n",
       "1    530973.9078          45115.52566  \n",
       "2    638467.1773          42925.70921  \n",
       "3    548599.0524          67422.36313  \n",
       "4    560304.0671          55915.46248  \n",
       "..           ...                  ...  \n",
       "495  541670.1016          48901.44342  \n",
       "496  360419.0988          31491.41457  \n",
       "497  764531.3203          64147.28888  \n",
       "498  337826.6382          45442.15353  \n",
       "499  462946.4924          45107.22566  \n",
       "\n",
       "[500 rows x 9 columns]"
      ]
     },
     "execution_count": 16,
     "metadata": {},
     "output_type": "execute_result"
    }
   ],
   "source": [
    "import pandas as pd\n",
    "import random as rd #Se utiliza para generar numeros aleatorios\n",
    "import matplotlib.pyplot as plt\n",
    "\n",
    "full_data_file=pd.read_csv('car_purchasing.csv',header=0,encoding='latin-1')\n",
    "full_data_file"
   ]
  },
  {
   "cell_type": "markdown",
   "metadata": {},
   "source": [
    "Extraemos los datos que utilizaremos: 60% para el conjunto de entrenamiento y 40% para el conjunto de pruebas."
   ]
  },
  {
   "cell_type": "code",
   "execution_count": 14,
   "metadata": {
    "colab": {
     "base_uri": "https://localhost:8080/",
     "height": 423
    },
    "executionInfo": {
     "elapsed": 135,
     "status": "ok",
     "timestamp": 1706820351695,
     "user": {
      "displayName": "KARLA AVILA CARDENAS",
      "userId": "12243875962292829927"
     },
     "user_tz": 360
    },
    "id": "Xz0QPdodNjc1",
    "outputId": "5eb9c612-9323-47ad-839f-7f05cb2ae1e5"
   },
   "outputs": [
    {
     "name": "stdout",
     "output_type": "stream",
     "text": [
      "[58143.06285] [42209.28948]\n",
      "[63172.95729] [45112.94547]\n",
      "[67548.77415] [37871.7082]\n",
      "[63087.95261] [45167.32542]\n",
      "[65826.12291] [41679.7929]\n",
      "x_train:  300\n",
      "y_train:  300\n",
      "\n",
      "[64315.73671] [40077.57289]\n",
      "[71148.20248] [43724.4896]\n",
      "[44617.98314] [42978.34626]\n",
      "[52786.1971] [49442.12107]\n",
      "[45362.66982] [35457.1486]\n",
      "\n",
      "x_test:  200\n",
      "y_test:  200\n"
     ]
    }
   ],
   "source": [
    "#Extracción de datos que utilizaremos por coordenadas\n",
    "#Annual Salary\n",
    "x=pd.read_csv('car_purchasing.csv',usecols=[5], encoding='latin-1').values\n",
    "#Car Purchase Amount\n",
    "y=pd.read_csv('car_purchasing.csv',usecols=[8], encoding='latin-1').values\n",
    "\n",
    "# Determinamos la cantidad de muestras para el conjunto train\n",
    "train_size = int(0.6 * len(x))\n",
    "\n",
    "# Creamos una lista de indices que corresponden a las muestras que tomaremos\n",
    "idx = list(range(len(x)))\n",
    "rd.shuffle(idx) #Los randomizamos para que la se realice el modelo de una mejor calidad\n",
    "\n",
    "# Seleccionamos las muestras aleatorias para ek conjunto de entrenamiento\n",
    "x_train = [x[i] for i in idx[:train_size]]\n",
    "y_train = [y[i] for i in idx[:train_size]]\n",
    "\n",
    "# Seleccionamos las muestras aleatorias para el conjunto de test\n",
    "x_test = [x[i] for i in idx[train_size:]]\n",
    "y_test = [y[i] for i in idx[train_size:]]"
   ]
  },
  {
   "cell_type": "markdown",
   "metadata": {},
   "source": [
    "**Entrenamiento del modelo.**"
   ]
  },
  {
   "cell_type": "markdown",
   "metadata": {},
   "source": [
    "Calculamos las medias."
   ]
  },
  {
   "cell_type": "code",
   "execution_count": 6,
   "metadata": {
    "colab": {
     "base_uri": "https://localhost:8080/",
     "height": 112
    },
    "executionInfo": {
     "elapsed": 130,
     "status": "ok",
     "timestamp": 1706820598018,
     "user": {
      "displayName": "KARLA AVILA CARDENAS",
      "userId": "12243875962292829927"
     },
     "user_tz": 360
    },
    "id": "uI-yta69atPF",
    "outputId": "03a79da9-7862-42b6-9825-3fe65aca7419"
   },
   "outputs": [],
   "source": [
    "mean_x = sum(x_train)/len(x_train)\n",
    "mean_y = sum(y_train)/len(y_train)"
   ]
  },
  {
   "cell_type": "markdown",
   "metadata": {},
   "source": [
    "Calculamos la pendiente *(m)* y el intercepto *(b)*."
   ]
  },
  {
   "cell_type": "code",
   "execution_count": 7,
   "metadata": {
    "colab": {
     "base_uri": "https://localhost:8080/"
    },
    "executionInfo": {
     "elapsed": 116,
     "status": "ok",
     "timestamp": 1706820603858,
     "user": {
      "displayName": "KARLA AVILA CARDENAS",
      "userId": "12243875962292829927"
     },
     "user_tz": 360
    },
    "id": "48mWnU_Tb4H7",
    "outputId": "5e4cbdde-0cdb-47b7-e18e-dedd8ba6bb46"
   },
   "outputs": [],
   "source": [
    "numerator =  sum((xi - mean_x) * (yi - mean_y) for xi, yi in zip(x, y))\n",
    "denominator = sum((xi - mean_x)**2 for xi in x)\n",
    "\n",
    "m = numerator / denominator\n",
    "b = mean_y - m * mean_x"
   ]
  },
  {
   "cell_type": "markdown",
   "metadata": {},
   "source": [
    "**Prueba del modelo.**"
   ]
  },
  {
   "cell_type": "markdown",
   "metadata": {},
   "source": [
    "Realizamos las predicciones."
   ]
  },
  {
   "cell_type": "code",
   "execution_count": 8,
   "metadata": {
    "colab": {
     "base_uri": "https://localhost:8080/",
     "height": 246
    },
    "executionInfo": {
     "elapsed": 5,
     "status": "error",
     "timestamp": 1706890353043,
     "user": {
      "displayName": "KARLA AVILA CARDENAS",
      "userId": "12243875962292829927"
     },
     "user_tz": 360
    },
    "id": "TZ6BrjRRQqZr",
    "outputId": "674d9aaf-1cdd-45aa-c18f-fc1a0d25ee01"
   },
   "outputs": [
    {
     "data": {
      "image/png": "[encoded data removed]",
      "text/plain": [
       "<Figure size 640x480 with 1 Axes>"
      ]
     },
     "metadata": {},
     "output_type": "display_data"
    }
   ],
   "source": [
    "for xi in x_train:\n",
    "    y_pred = m * xi + b\n",
    "    #Visuzalización de los datos\n",
    "    plt.scatter(x, y,color='blue')\n",
    "    plt.plot(x, m*x+b, color='red')\n",
    "    plt.xlabel('Annual Salary(Variable Independiente)')\n",
    "    plt.ylabel('Car Purchase Amount(Variable Dependiente)')\n",
    "    plt.title('Annual Salary vs Car Purchase Amount')\n",
    "plt.legend(['Datos','Regresión Lineal'])\n",
    "plt.show()\n",
    "\n"
   ]
  },
  {
   "cell_type": "markdown",
   "metadata": {},
   "source": [
    "Calculamos el MSE y SSD."
   ]
  },
  {
   "cell_type": "code",
   "execution_count": 9,
   "metadata": {},
   "outputs": [],
   "source": [
    "# Calculo de la distancia entre cada punto y la línea de regresión\n",
    "distancias = [abs(yi - m * xi - b) for xi, yi in zip(x_train,y_train)]\n",
    "\n",
    "#Obtenemos la Suma de las Diferencias Cuadradas (SSD)\n",
    "ssd = sum(d**2 for d in distancias)\n",
    "\n",
    "#Calculo del Error Cuadrático Medio (MSE)\n",
    "mse = sum((yi - m * xi - b)**2 for xi, yi in zip(x_train,y_train)) / len(x_train)"
   ]
  },
  {
   "cell_type": "code",
   "execution_count": 10,
   "metadata": {},
   "outputs": [
    {
     "name": "stdout",
     "output_type": "stream",
     "text": [
      "Coeficiente (pendiente m):  [0.56996214]\n",
      "Intercepto(b):  [8576.31891684]\n",
      "SSD:  [2.19455336e+10]\n",
      "MSE:  [73151778.67195906]\n"
     ]
    }
   ],
   "source": [
    "#Impresión de los resultados\n",
    "print('Coeficiente (pendiente m): ',m)\n",
    "print('Intercepto(b): ', b)\n",
    "print('SSD: ', ssd)\n",
    "print('MSE: ', mse)"
   ]
  }
 ],
 "metadata": {
  "colab": {
   "authorship_tag": "ABX9TyMWKjze+5WeV6kXqfgqWmw7",
   "provenance": []
  },
  "kernelspec": {
   "display_name": "Python 3 (ipykernel)",
   "language": "python",
   "name": "python3"
  },
  "language_info": {
   "codemirror_mode": {
    "name": "ipython",
    "version": 3
   },
   "file_extension": ".py",
   "mimetype": "text/x-python",
   "name": "python",
   "nbconvert_exporter": "python",
   "pygments_lexer": "ipython3",
   "version": "3.10.12"
  }
 },
 "nbformat": 4,
 "nbformat_minor": 1
}
